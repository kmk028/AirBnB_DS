{
 "cells": [
  {
   "cell_type": "code",
   "execution_count": 1,
   "metadata": {},
   "outputs": [
    {
     "name": "stderr",
     "output_type": "stream",
     "text": [
      "/Users/karthikmahendra/anaconda3/lib/python3.7/site-packages/IPython/core/interactiveshell.py:3049: DtypeWarning: Columns (61,62) have mixed types. Specify dtype option on import or set low_memory=False.\n",
      "  interactivity=interactivity, compiler=compiler, result=result)\n"
     ]
    }
   ],
   "source": [
    "import pandas as pd\n",
    "import numpy as np\n",
    "import pandas_profiling\n",
    "listings = pd.read_csv('listings_tokyo.csv.gz')\n",
    "# calender = pd.read_csv ('http://data.insideairbnb.com/japan/kantō/tokyo/2019-11-28/data/calendar.csv.gz')\n",
    "# reviews = pd.read_csv('http://data.insideairbnb.com/japan/kantō/tokyo/2019-11-28/data/reviews.csv.gz')\n",
    "# listings_vis = pd.read_csv ('http://data.insideairbnb.com/japan/kantō/tokyo/2019-11-28/visualisations/listings.csv')\n",
    "# reviews_vis = pd.read_csv('http://data.insideairbnb.com/japan/kantō/tokyo/2019-11-28/visualisations/reviews.csv')\n",
    "# neighborhood = pd.read_csv('http://data.insideairbnb.com/japan/kantō/tokyo/2019-11-28/visualisations/neighbourhoods.csv')\n",
    "# neighborhood_geo = pd.read_csv('http://data.insideairbnb.com/japan/kantō/tokyo/2019-11-28/visualisations/neighbourhoods.geojson')\n"
   ]
  },
  {
   "cell_type": "code",
   "execution_count": 2,
   "metadata": {},
   "outputs": [
    {
     "data": {
      "text/plain": [
       "(13762, 106)"
      ]
     },
     "execution_count": 2,
     "metadata": {},
     "output_type": "execute_result"
    }
   ],
   "source": [
    "listings.shape"
   ]
  },
  {
   "cell_type": "code",
   "execution_count": 3,
   "metadata": {},
   "outputs": [],
   "source": [
    "cols_drop = ['id','listing_url','scrape_id','last_scraped','thumbnail_url','medium_url','picture_url','xl_picture_url',\n",
    "             'host_id','host_url','host_name','host_thumbnail_url','host_picture_url','minimum_minimum_nights',\n",
    "             'maximum_minimum_nights','minimum_maximum_nights','maximum_maximum_nights','minimum_nights_avg_ntm',\n",
    "             'maximum_nights_avg_ntm','calendar_last_scraped','host_location','name','space','description',\n",
    "             'neighborhood_overview','notes','transit','access','interaction','house_rules','city','country','country_code',\n",
    "             'state','host_about','host_neighbourhood','host_has_profile_pic','license','market','smart_location',\n",
    "             'jurisdiction_names','square_feet','host_acceptance_rate','weekly_price','monthly_price','availability_60',\n",
    "             'experiences_offered','is_business_travel_ready','has_availability','host_listings_count','host_total_listings_count',\n",
    "             'requires_license','neighbourhood_group_cleansed','first_review','last_review','latitude','longitude',\n",
    "             'street','neighbourhood','zipcode','bed_type','calendar_updated',\n",
    "             'host_verifications','availability_365','calculated_host_listings_count', \n",
    "             'calculated_host_listings_count_entire_homes', 'calculated_host_listings_count_private_rooms', \n",
    "             'calculated_host_listings_count_shared_rooms','number_of_reviews_ltm',\n",
    "             'availability_30','availability_90', 'number_of_reviews', 'review_scores_rating',\n",
    "             'review_scores_accuracy', 'review_scores_cleanliness',\n",
    "             'review_scores_checkin', 'review_scores_communication',\n",
    "             'review_scores_location', 'review_scores_value','reviews_per_month','host_response_rate']\n",
    "listings_clean = listings.drop(columns=cols_drop,axis=1)"
   ]
  },
  {
   "cell_type": "code",
   "execution_count": 5,
   "metadata": {},
   "outputs": [],
   "source": [
    "listings_clean_model = listings.drop(columns=cols_drop,axis=1)"
   ]
  },
  {
   "cell_type": "code",
   "execution_count": 6,
   "metadata": {},
   "outputs": [
    {
     "data": {
      "text/plain": [
       "(11995, 25)"
      ]
     },
     "execution_count": 6,
     "metadata": {},
     "output_type": "execute_result"
    }
   ],
   "source": [
    "# Drop any NaNs\n",
    "listings_clean = listings_clean.dropna()\n",
    "listings_clean.shape"
   ]
  },
  {
   "cell_type": "code",
   "execution_count": null,
   "metadata": {},
   "outputs": [],
   "source": [
    "html = pandas_profiling.ProfileReport(listings_clean)\n",
    "html "
   ]
  },
  {
   "cell_type": "code",
   "execution_count": 7,
   "metadata": {},
   "outputs": [],
   "source": [
    "# Apply this to features and convert them to numbers from Categorical \n",
    "def str_to_num(x):\n",
    "    listings_clean[x] = listings_clean[x].str[1:-3]\n",
    "    listings_clean[x] = listings_clean[x].str.replace(',','')\n",
    "    listings_clean[x] = listings_clean[x].astype('int')   "
   ]
  },
  {
   "cell_type": "code",
   "execution_count": 8,
   "metadata": {},
   "outputs": [],
   "source": [
    "str_to_num('cleaning_fee')\n",
    "str_to_num('extra_people')\n",
    "str_to_num('security_deposit')\n",
    "str_to_num('price')"
   ]
  },
  {
   "cell_type": "code",
   "execution_count": 9,
   "metadata": {},
   "outputs": [],
   "source": [
    "# Commenting since a first time host will not have any history of responses. \n",
    "\n",
    "# #bucketize response rate\n",
    "# def bucketize():\n",
    "#     listings_clean['host_response_rate'] = listings_clean['host_response_rate'].str[:-1].astype('int')\n",
    "#     listings_clean['host_response_rate'] = pd.cut(listings_clean['host_response_rate'],\n",
    "#                                                   bins=[0,50,80,90,95,99,100],\n",
    "#                                                   labels=['0-49%','50-79%','80-89%','90-94%','95-99%','100%'],\n",
    "#                                                   include_lowest=True)   "
   ]
  },
  {
   "cell_type": "code",
   "execution_count": 10,
   "metadata": {},
   "outputs": [],
   "source": [
    "# bucketize()"
   ]
  },
  {
   "cell_type": "code",
   "execution_count": 11,
   "metadata": {},
   "outputs": [],
   "source": [
    "# Calculate numbers of days host has been on AirBnB\n",
    "# data was compiled on 28th Nov 2019\n",
    "listings_clean['host_since'] = pd.to_datetime(listings_clean['host_since'])\n",
    "listings_clean['host_active'] = (pd.datetime(2019, 11, 28)-\n",
    "                                   listings_clean['host_since'])/np.timedelta64(1,'D')\n"
   ]
  },
  {
   "cell_type": "code",
   "execution_count": 12,
   "metadata": {},
   "outputs": [],
   "source": [
    "# Clubbing Serviced apartment,Aparthotel, Loft,Condominium as apartment\n",
    "# Clubbing Boutique hotel  and hotel\n",
    "# Club Houuse, Guesthouse,Townhouse,Tiny house,Guest suite,Earth house,Cabin\n",
    "# Club Villa and bungalow \n",
    "\n",
    "listings_clean['property_type'].replace({\n",
    "    'Condominium':'Apartment',\n",
    "    'Serviced apartment': 'Apartment',\n",
    "    'Aparthotel':'Apartment',\n",
    "    'Loft':'Apartment',\n",
    "    'Boutique hotel':'Hotel',\n",
    "    'Guesthouse':'House',\n",
    "    'Townhouse':'House',\n",
    "    'Tiny house':'House',\n",
    "    'Guest suite':'House',\n",
    "    'Earth house':'House',\n",
    "    'Cabin':'House',\n",
    "    'Bungalow':'Villa',\n",
    "    'Ryokan (Japan)':'Other',\n",
    "    'Hut':'Other',\n",
    "    'Guest suite':'Other',\n",
    "    'Bed and breakfast':'Other',\n",
    "    'Camper/RV':'Other',\n",
    "    'Dorm':'Other'\n",
    "    },inplace = True)"
   ]
  },
  {
   "cell_type": "code",
   "execution_count": 13,
   "metadata": {},
   "outputs": [],
   "source": [
    "# Replacing columns with f/t with 0/1\n",
    "listings_clean.replace({'f': 0, 't': 1}, inplace=True)"
   ]
  },
  {
   "cell_type": "code",
   "execution_count": 14,
   "metadata": {},
   "outputs": [],
   "source": [
    "# Function to retain important amenities \n",
    "def beautiful_amenities(df):\n",
    "        # strip excess characters from column, convert each row to a list\n",
    "        df['amenities'] = df['amenities'].str.replace('\"','').str.replace('{','').str.replace('}','').str.split(',')\n",
    "        # create new columns for 69 most commonly found amenities\n",
    "        df['hot_tub'] = [True if 'Hot tub' in row else False for row in df['amenities']]\n",
    "        df['wifi'] = [True if 'Wifi' or 'Internet' in row else False for row in df['amenities']]\n",
    "        df['ac'] = [True if 'Air conditioning' in row else False for row in df['amenities']]\n",
    "        df['kitchen'] = [True if 'Kitchen' in row else False for row in df['amenities']]\n",
    "        df['washer'] = [True if 'Washer' in row else False for row in df['amenities']]\n",
    "        df['tv'] = [True if 'TV' in row else False for row in df['amenities']]\n",
    "        df['intercom'] = [True if 'Buzzer/wireless intercom' in row else False for row in df['amenities']]\n",
    "        df['heating'] = [True if 'Heating' in row else False for row in df['amenities']]\n",
    "        df['kid_friendly'] = [True if 'Family/kid friendly' in row else False for row in df['amenities']]\n",
    "        df['dryer'] = [True if 'Dryer' in row else False for row in df['amenities']]\n",
    "        df['smoke_detector'] = [True if 'Smoke detector' in row else False for row in df['amenities']]\n",
    "        df['cm_detector'] = [True if 'Carbon monoxide detector' in row else False for row in df['amenities']]\n",
    "        df['fire_extinguisher'] = [True if 'Fire extinguisher' in row else False for row in df['amenities']]\n",
    "        df['essentials'] = [True if 'Essentials' in row else False for row in df['amenities']]\n",
    "        df['shampoo'] = [True if 'Shampoo' in row else False for row in df['amenities']]\n",
    "        df['hangers'] = [True if 'Hangers' in row else False for row in df['amenities']]\n",
    "        df['hair_dryer'] = [True if 'Hair dryer' in row else False for row in df['amenities']]\n",
    "        df['iron'] = [True if 'Iron' in row else False for row in df['amenities']]\n",
    "        df['workspace'] = [True if 'Laptop friendly workspace' in row else False for row in df['amenities']]\n",
    "        df['self_check_in'] = [True if 'Self check-in' in row else False for row in df['amenities']]\n",
    "        df['lockbox'] = [True if 'Lockbox' in row else False for row in df['amenities']]\n",
    "        df['dishware'] = [True if 'Dishes and silverware' in row else False for row in df['amenities']]\n",
    "        df['safety_card'] = [True if 'Safety card' in row else False for row in df['amenities']]\n",
    "        df['shades'] = [True if 'Room-darkening shades' in row else False for row in df['amenities']]\n",
    "        df['hot_water'] = [True if 'Hot water' in row else False for row in df['amenities']]\n",
    "        df['bed_linens'] = [True if 'Bed linens' in row else False for row in df['amenities']]\n",
    "        df['microwave'] = [True if 'Microwave' in row else False for row in df['amenities']]\n",
    "        df['coffee_maker'] = [True if 'Coffee maker' in row else False for row in df['amenities']]\n",
    "        df['refrigerator'] = [True if 'Refrigerator' in row else False for row in df['amenities']]\n",
    "        df['cooking_basics'] = [True if 'Cooking basics' in row else False for row in df['amenities']]\n",
    "        df['stove'] = [True if 'Stove' in row else False for row in df['amenities']]\n",
    "        df['patio_or_balcony'] = [True if 'Patio or balcony' in row else False for row in df['amenities']]\n",
    "        df['long_term'] = [True if 'Long term stays allowed' in row else False for row in df['amenities']]\n",
    "        df['no_stairs'] = [True if 'No stairs or steps to enter' in row else False for row in df['amenities']]\n",
    "        df['first_aid'] = [True if 'First aid kit' in row else False for row in df['amenities']]\n",
    "        df['fire_extinguisher'] = [True if 'Fire extinguisher' in row else False for row in df['amenities']]\n",
    "        df['twenty_four_hour'] = [True if '24-hour check-in' in row else False for row in df['amenities']]\n",
    "        df['private_entrance'] = [True if 'Private entrance' in row else False for row in df['amenities']]\n",
    "        df['luggage_dropoff'] = [True if 'Luggage dropoff allowed' in row else False for row in df['amenities']]\n",
    "        df['well_lit'] = [True if 'Well-lit path to entrance' in row else False for row in df['amenities']]\n",
    "        df['other'] = [True if 'Other' in row else False for row in df['amenities']]\n",
    "        df['paid_parking'] = [True if 'Paid parking off premises' in row else False for row in df['amenities']]\n",
    "        df['pets_allowed'] = [True if 'Pets allowed' in row else False for row in df['amenities']]\n",
    "        df['extra_pillow'] = [True if 'Extra pillows and blankets' in row else False for row in df['amenities']]\n",
    "        df['ethernet'] = [True if 'Ethernet connection' in row else False for row in df['amenities']]\n",
    "        df['wide_hallways'] = [True if 'Wide hallways' in row else False for row in df['amenities']]\n",
    "        df['flat_path'] = [True if 'Flat path to guest entrance' in row else False for row in df['amenities']]\n",
    "        df['wide_entrance'] = [True if 'Wide entrance' in row else False for row in df['amenities']]\n",
    "        df['extra_space'] = [True if 'Extra space around bed' in row else False for row in df['amenities']]\n",
    "        df['wide_clearance'] = [True if 'Wide clearance to shower' in row else False for row in df['amenities']]\n",
    "        df['extra_space'] = [True if 'Extra space around bed' in row else False for row in df['amenities']]\n",
    "        df['shower_head'] = [True if 'Handheld shower head' in row else False for row in df['amenities']]\n",
    "        df['bedroom_lock'] = [True if 'Lock on bedroom door' in row else False for row in df['amenities']]\n",
    "        df['greet'] = [True if 'Host greets you' in row else False for row in df['amenities']]\n",
    "        df['keypad'] = [True if 'Key pad' in row else False for row in df['amenities']]\n",
    "        df['crib'] = [True if \"Pack 'n Play/travel crib\" in row else False for row in df['amenities']]\n",
    "        df['wheelchair'] = [True if 'Wheelchair accessible' in row else False for row in df['amenities']]\n",
    "        df['cleaning'] = [True if 'Cleaning before checkout' in row else False for row in df['amenities']]\n",
    "        df['kitchenette'] = [True if 'Kitchenette' in row else False for row in df['amenities']]\n",
    "        df['full_kitchen'] = [True if 'Full kitchen' in row else False for row in df['amenities']]\n",
    "        df['pocket_wifi'] = [True if 'Pocket wifi' in row else False for row in df['amenities']]\n",
    "        df['events'] = [True if 'Suitable for events' in row else False for row in df['amenities']]\n",
    "        df['smart_lock'] = [True if 'Smart lock' in row else False for row in df['amenities']]\n",
    "        df['private_living'] = [True if 'Private living room' in row else False for row in df['amenities']]\n",
    "        df['garden_backyard'] = [True if 'Garden or backyard' in row else False for row in df['amenities']]\n",
    "        df['smoking'] = [True if 'Smoking allowed' in row else False for row in df['amenities']]\n",
    "        df['oven'] = [True if 'Oven' in row else False for row in df['amenities']]\n",
    "        df['single_level'] = [True if 'Single level home' in row else False for row in df['amenities']]\n",
    "        df['crib'] = [True if 'Crib' in row else False for row in df['amenities']]\n",
    "        return df"
   ]
  },
  {
   "cell_type": "code",
   "execution_count": 15,
   "metadata": {},
   "outputs": [],
   "source": [
    "#Keep beautiful amenities as individual features and drop the rest\n",
    "listings_clean = beautiful_amenities(listings_clean)"
   ]
  },
  {
   "cell_type": "code",
   "execution_count": 16,
   "metadata": {},
   "outputs": [],
   "source": [
    "# Replace num values for bool\n",
    "listings_clean.replace({False: 0, True: 1}, inplace=True)"
   ]
  },
  {
   "cell_type": "code",
   "execution_count": 17,
   "metadata": {},
   "outputs": [],
   "source": [
    "#Drop ameneties and host_since after feature engineering \n",
    "col_drop2 = ['amenities','host_since']\n",
    "listings_clean = listings_clean.drop(columns=col_drop2,axis=1)"
   ]
  },
  {
   "cell_type": "code",
   "execution_count": 18,
   "metadata": {},
   "outputs": [
    {
     "data": {
      "text/html": [
       "<div>\n",
       "<style scoped>\n",
       "    .dataframe tbody tr th:only-of-type {\n",
       "        vertical-align: middle;\n",
       "    }\n",
       "\n",
       "    .dataframe tbody tr th {\n",
       "        vertical-align: top;\n",
       "    }\n",
       "\n",
       "    .dataframe thead th {\n",
       "        text-align: right;\n",
       "    }\n",
       "</style>\n",
       "<table border=\"1\" class=\"dataframe\">\n",
       "  <thead>\n",
       "    <tr style=\"text-align: right;\">\n",
       "      <th></th>\n",
       "      <th>summary</th>\n",
       "      <th>host_response_time</th>\n",
       "      <th>host_is_superhost</th>\n",
       "      <th>host_identity_verified</th>\n",
       "      <th>neighbourhood_cleansed</th>\n",
       "      <th>is_location_exact</th>\n",
       "      <th>property_type</th>\n",
       "      <th>room_type</th>\n",
       "      <th>accommodates</th>\n",
       "      <th>bathrooms</th>\n",
       "      <th>...</th>\n",
       "      <th>kitchenette</th>\n",
       "      <th>full_kitchen</th>\n",
       "      <th>pocket_wifi</th>\n",
       "      <th>events</th>\n",
       "      <th>smart_lock</th>\n",
       "      <th>private_living</th>\n",
       "      <th>garden_backyard</th>\n",
       "      <th>smoking</th>\n",
       "      <th>oven</th>\n",
       "      <th>single_level</th>\n",
       "    </tr>\n",
       "  </thead>\n",
       "  <tbody>\n",
       "    <tr>\n",
       "      <th>3</th>\n",
       "      <td>So close to busy centers, yet so peaceful! Jus...</td>\n",
       "      <td>within an hour</td>\n",
       "      <td>0</td>\n",
       "      <td>1</td>\n",
       "      <td>Setagaya Ku</td>\n",
       "      <td>1</td>\n",
       "      <td>Apartment</td>\n",
       "      <td>Entire home/apt</td>\n",
       "      <td>2</td>\n",
       "      <td>1.0</td>\n",
       "      <td>...</td>\n",
       "      <td>0</td>\n",
       "      <td>0</td>\n",
       "      <td>0</td>\n",
       "      <td>0</td>\n",
       "      <td>0</td>\n",
       "      <td>0</td>\n",
       "      <td>0</td>\n",
       "      <td>0</td>\n",
       "      <td>0</td>\n",
       "      <td>0</td>\n",
       "    </tr>\n",
       "    <tr>\n",
       "      <th>6</th>\n",
       "      <td>Monthly private fully furnished house, cozy an...</td>\n",
       "      <td>within an hour</td>\n",
       "      <td>0</td>\n",
       "      <td>1</td>\n",
       "      <td>Setagaya Ku</td>\n",
       "      <td>1</td>\n",
       "      <td>House</td>\n",
       "      <td>Entire home/apt</td>\n",
       "      <td>3</td>\n",
       "      <td>1.0</td>\n",
       "      <td>...</td>\n",
       "      <td>0</td>\n",
       "      <td>0</td>\n",
       "      <td>0</td>\n",
       "      <td>0</td>\n",
       "      <td>0</td>\n",
       "      <td>0</td>\n",
       "      <td>0</td>\n",
       "      <td>0</td>\n",
       "      <td>1</td>\n",
       "      <td>0</td>\n",
       "    </tr>\n",
       "    <tr>\n",
       "      <th>7</th>\n",
       "      <td>..*+;.*:' Popular room in Airbnb@Tokyo *;+:..*...</td>\n",
       "      <td>within a few hours</td>\n",
       "      <td>1</td>\n",
       "      <td>1</td>\n",
       "      <td>Shinjuku Ku</td>\n",
       "      <td>1</td>\n",
       "      <td>Apartment</td>\n",
       "      <td>Entire home/apt</td>\n",
       "      <td>3</td>\n",
       "      <td>1.0</td>\n",
       "      <td>...</td>\n",
       "      <td>0</td>\n",
       "      <td>0</td>\n",
       "      <td>0</td>\n",
       "      <td>0</td>\n",
       "      <td>0</td>\n",
       "      <td>0</td>\n",
       "      <td>0</td>\n",
       "      <td>0</td>\n",
       "      <td>0</td>\n",
       "      <td>0</td>\n",
       "    </tr>\n",
       "    <tr>\n",
       "      <th>8</th>\n",
       "      <td>License M (Phone number hidden by Airbnb) Enti...</td>\n",
       "      <td>within an hour</td>\n",
       "      <td>1</td>\n",
       "      <td>1</td>\n",
       "      <td>Shibuya Ku</td>\n",
       "      <td>0</td>\n",
       "      <td>Apartment</td>\n",
       "      <td>Private room</td>\n",
       "      <td>6</td>\n",
       "      <td>1.0</td>\n",
       "      <td>...</td>\n",
       "      <td>0</td>\n",
       "      <td>0</td>\n",
       "      <td>1</td>\n",
       "      <td>0</td>\n",
       "      <td>0</td>\n",
       "      <td>0</td>\n",
       "      <td>0</td>\n",
       "      <td>0</td>\n",
       "      <td>0</td>\n",
       "      <td>0</td>\n",
       "    </tr>\n",
       "    <tr>\n",
       "      <th>9</th>\n",
       "      <td>Quiet room on top floor of our European-style ...</td>\n",
       "      <td>within an hour</td>\n",
       "      <td>1</td>\n",
       "      <td>1</td>\n",
       "      <td>Mitaka Shi</td>\n",
       "      <td>1</td>\n",
       "      <td>House</td>\n",
       "      <td>Private room</td>\n",
       "      <td>2</td>\n",
       "      <td>1.5</td>\n",
       "      <td>...</td>\n",
       "      <td>0</td>\n",
       "      <td>0</td>\n",
       "      <td>0</td>\n",
       "      <td>0</td>\n",
       "      <td>0</td>\n",
       "      <td>0</td>\n",
       "      <td>0</td>\n",
       "      <td>0</td>\n",
       "      <td>0</td>\n",
       "      <td>0</td>\n",
       "    </tr>\n",
       "  </tbody>\n",
       "</table>\n",
       "<p>5 rows × 90 columns</p>\n",
       "</div>"
      ],
      "text/plain": [
       "                                             summary  host_response_time  \\\n",
       "3  So close to busy centers, yet so peaceful! Jus...      within an hour   \n",
       "6  Monthly private fully furnished house, cozy an...      within an hour   \n",
       "7  ..*+;.*:' Popular room in Airbnb@Tokyo *;+:..*...  within a few hours   \n",
       "8  License M (Phone number hidden by Airbnb) Enti...      within an hour   \n",
       "9  Quiet room on top floor of our European-style ...      within an hour   \n",
       "\n",
       "   host_is_superhost  host_identity_verified neighbourhood_cleansed  \\\n",
       "3                  0                       1            Setagaya Ku   \n",
       "6                  0                       1            Setagaya Ku   \n",
       "7                  1                       1            Shinjuku Ku   \n",
       "8                  1                       1             Shibuya Ku   \n",
       "9                  1                       1             Mitaka Shi   \n",
       "\n",
       "   is_location_exact property_type        room_type  accommodates  bathrooms  \\\n",
       "3                  1     Apartment  Entire home/apt             2        1.0   \n",
       "6                  1         House  Entire home/apt             3        1.0   \n",
       "7                  1     Apartment  Entire home/apt             3        1.0   \n",
       "8                  0     Apartment     Private room             6        1.0   \n",
       "9                  1         House     Private room             2        1.5   \n",
       "\n",
       "   ...  kitchenette  full_kitchen  pocket_wifi  events  smart_lock  \\\n",
       "3  ...            0             0            0       0           0   \n",
       "6  ...            0             0            0       0           0   \n",
       "7  ...            0             0            0       0           0   \n",
       "8  ...            0             0            1       0           0   \n",
       "9  ...            0             0            0       0           0   \n",
       "\n",
       "   private_living  garden_backyard  smoking  oven  single_level  \n",
       "3               0                0        0     0             0  \n",
       "6               0                0        0     1             0  \n",
       "7               0                0        0     0             0  \n",
       "8               0                0        0     0             0  \n",
       "9               0                0        0     0             0  \n",
       "\n",
       "[5 rows x 90 columns]"
      ]
     },
     "execution_count": 18,
     "metadata": {},
     "output_type": "execute_result"
    }
   ],
   "source": [
    "listings_clean.head()"
   ]
  },
  {
   "cell_type": "code",
   "execution_count": null,
   "metadata": {},
   "outputs": [],
   "source": [
    "list(listings_clean.columns)"
   ]
  },
  {
   "cell_type": "code",
   "execution_count": null,
   "metadata": {},
   "outputs": [],
   "source": []
  }
 ],
 "metadata": {
  "kernelspec": {
   "display_name": "Python 3",
   "language": "python",
   "name": "python3"
  },
  "language_info": {
   "codemirror_mode": {
    "name": "ipython",
    "version": 3
   },
   "file_extension": ".py",
   "mimetype": "text/x-python",
   "name": "python",
   "nbconvert_exporter": "python",
   "pygments_lexer": "ipython3",
   "version": "3.7.3"
  }
 },
 "nbformat": 4,
 "nbformat_minor": 2
}
